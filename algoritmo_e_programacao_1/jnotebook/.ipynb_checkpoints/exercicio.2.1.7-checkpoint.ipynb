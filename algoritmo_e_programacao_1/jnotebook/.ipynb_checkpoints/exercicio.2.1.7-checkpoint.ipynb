{
 "cells": [
  {
   "cell_type": "code",
   "execution_count": 1,
   "id": "aa00f887-177b-4ef6-b675-e66d0cfeaf71",
   "metadata": {},
   "outputs": [
    {
     "name": "stdout",
     "output_type": "stream",
     "text": [
      "Número pi = 3.141592653589793\n",
      "Número de Euler e = 2.718281828459045\n"
     ]
    }
   ],
   "source": [
    "#!/usr/bin/env python3\n",
    "# -*- coding: utf-8 -*-\n",
    "\"\"\"\n",
    "Created on Sun Mar 24 21:10:40 2024\n",
    "\n",
    "@author: luizdevjr\n",
    "\"\"\"\n",
    "\n",
    "import math as m\n",
    "print(f'Número pi = {m.pi}')\n",
    "print(f'Número de Euler e = {m.e}')"
   ]
  }
 ],
 "metadata": {
  "kernelspec": {
   "display_name": "Python 3 (ipykernel)",
   "language": "python",
   "name": "python3"
  },
  "language_info": {
   "codemirror_mode": {
    "name": "ipython",
    "version": 3
   },
   "file_extension": ".py",
   "mimetype": "text/x-python",
   "name": "python",
   "nbconvert_exporter": "python",
   "pygments_lexer": "ipython3",
   "version": "3.11.7"
  }
 },
 "nbformat": 4,
 "nbformat_minor": 5
}
